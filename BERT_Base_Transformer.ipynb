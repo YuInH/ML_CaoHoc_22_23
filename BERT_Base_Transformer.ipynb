{
  "cells": [
    {
      "cell_type": "markdown",
      "id": "d1d0cb65",
      "metadata": {
        "id": "d1d0cb65",
        "papermill": {
          "duration": 0.009984,
          "end_time": "2022-12-14T21:28:02.608709",
          "exception": false,
          "start_time": "2022-12-14T21:28:02.598725",
          "status": "completed"
        },
        "tags": []
      },
      "source": [
        "## Importing the necessary libraries"
      ]
    },
    {
      "cell_type": "code",
      "execution_count": 123,
      "id": "b06aedd2",
      "metadata": {
        "_cell_guid": "b1076dfc-b9ad-4769-8c92-a6c4dae69d19",
        "_uuid": "8f2839f25d086af736a60e9eeb907d3b93b6e0e5",
        "execution": {
          "iopub.execute_input": "2022-12-14T21:28:02.630512Z",
          "iopub.status.busy": "2022-12-14T21:28:02.629428Z",
          "iopub.status.idle": "2022-12-14T21:28:02.648856Z",
          "shell.execute_reply": "2022-12-14T21:28:02.647939Z"
        },
        "id": "b06aedd2",
        "papermill": {
          "duration": 0.034194,
          "end_time": "2022-12-14T21:28:02.652086",
          "exception": false,
          "start_time": "2022-12-14T21:28:02.617892",
          "status": "completed"
        },
        "tags": []
      },
      "outputs": [],
      "source": [
        "import numpy as np\n",
        "import pandas as pd"
      ]
    },
    {
      "cell_type": "code",
      "execution_count": 124,
      "id": "bc40f01a",
      "metadata": {
        "execution": {
          "iopub.execute_input": "2022-12-14T21:28:17.025669Z",
          "iopub.status.busy": "2022-12-14T21:28:17.024776Z",
          "iopub.status.idle": "2022-12-14T21:28:26.454559Z",
          "shell.execute_reply": "2022-12-14T21:28:26.453326Z"
        },
        "id": "bc40f01a",
        "papermill": {
          "duration": 9.442752,
          "end_time": "2022-12-14T21:28:26.457227",
          "exception": false,
          "start_time": "2022-12-14T21:28:17.014475",
          "status": "completed"
        },
        "tags": []
      },
      "outputs": [],
      "source": [
        "!pip install transformers --quiet"
      ]
    },
    {
      "cell_type": "code",
      "execution_count": 125,
      "id": "5156ee1d",
      "metadata": {
        "colab": {
          "base_uri": "https://localhost:8080/"
        },
        "execution": {
          "iopub.execute_input": "2022-12-14T21:28:26.695601Z",
          "iopub.status.busy": "2022-12-14T21:28:26.694769Z",
          "iopub.status.idle": "2022-12-14T21:28:40.195987Z",
          "shell.execute_reply": "2022-12-14T21:28:40.195042Z"
        },
        "id": "5156ee1d",
        "outputId": "36a89028-f963-4a34-c380-1e7e36485295",
        "papermill": {
          "duration": 13.51393,
          "end_time": "2022-12-14T21:28:40.198438",
          "exception": false,
          "start_time": "2022-12-14T21:28:26.684508",
          "status": "completed"
        },
        "tags": []
      },
      "outputs": [
        {
          "output_type": "stream",
          "name": "stderr",
          "text": [
            "[nltk_data] Downloading package stopwords to /root/nltk_data...\n",
            "[nltk_data]   Package stopwords is already up-to-date!\n"
          ]
        }
      ],
      "source": [
        "import tensorflow as tf\n",
        "import matplotlib.pyplot as plt\n",
        "import seaborn as sns\n",
        "import warnings\n",
        "warnings.filterwarnings(\"ignore\")\n",
        "from wordcloud import WordCloud\n",
        "import re\n",
        "import nltk\n",
        "nltk.download('stopwords')\n",
        "from nltk.corpus import stopwords\n",
        "from nltk.tokenize import RegexpTokenizer\n",
        "from tensorflow.keras.layers import Input, Dense, Dropout, Flatten, BatchNormalization\n",
        "from tensorflow.keras.models import Model\n",
        "from tensorflow.keras.optimizers import Adam\n",
        "from tensorflow.keras.losses import CategoricalCrossentropy\n",
        "from tensorflow.keras.metrics import Accuracy\n",
        "from tensorflow.keras.callbacks import EarlyStopping, ModelCheckpoint, ReduceLROnPlateau\n",
        "from sklearn.model_selection import train_test_split\n",
        "from sklearn.preprocessing import LabelEncoder\n",
        "\n",
        "from transformers import AutoTokenizer, TFAutoModelForSequenceClassification\n",
        "from tensorflow.keras.utils import to_categorical, plot_model\n",
        "from sklearn.metrics import confusion_matrix, classification_report"
      ]
    },
    {
      "cell_type": "code",
      "execution_count": 126,
      "id": "63d42243",
      "metadata": {
        "execution": {
          "iopub.execute_input": "2022-12-14T21:28:40.220060Z",
          "iopub.status.busy": "2022-12-14T21:28:40.218837Z",
          "iopub.status.idle": "2022-12-14T21:28:40.224043Z",
          "shell.execute_reply": "2022-12-14T21:28:40.223211Z"
        },
        "id": "63d42243",
        "papermill": {
          "duration": 0.017705,
          "end_time": "2022-12-14T21:28:40.226023",
          "exception": false,
          "start_time": "2022-12-14T21:28:40.208318",
          "status": "completed"
        },
        "tags": []
      },
      "outputs": [],
      "source": [
        "plt.rcParams['figure.figsize'] = (12,8)\n",
        "pd.set_option('display.max_columns', None)\n",
        "pd.set_option('display.max_colwidth', None)"
      ]
    },
    {
      "cell_type": "markdown",
      "id": "VSI5XMi-rcrP",
      "metadata": {
        "id": "VSI5XMi-rcrP"
      },
      "source": [
        "## Preprocessing "
      ]
    },
    {
      "cell_type": "code",
      "execution_count": 127,
      "id": "AoAu_mIBrki-",
      "metadata": {
        "id": "AoAu_mIBrki-"
      },
      "outputs": [],
      "source": [
        "# remove hashtags\n",
        "def hashtags(text):\n",
        "    hash = re.findall(r\"#(\\w+)\", text)\n",
        "    return hash\n",
        "    \n",
        "# remove retweet username and tweeted at @username\n",
        "def remove_users(tweet):\n",
        "    '''Takes a string and removes retweet and @user information'''\n",
        "    tweet = re.sub('(@[A-Za-z]+[A-Za-z0-9-_]+)', '', tweet) \n",
        "    # remove tweeted at\n",
        "    return tweet\n",
        "\n",
        "# remove links\n",
        "def remove_links(tweet):\n",
        "    '''Takes a string and removes web links from it'''\n",
        "    tweet = re.sub(r'http\\S+', '', tweet) # remove http links\n",
        "    tweet = re.sub(r'bit.ly/\\S+', '', tweet) # remove bitly links\n",
        "    tweet = tweet.strip('[link]') # remove [links]\n",
        "    return tweet\n",
        "\n",
        "def clean_html(text):\n",
        "    html = re.compile('<.*?>')#regex\n",
        "    return html.sub(r'',text)\n",
        "\n",
        "# remove non ascii character\n",
        "def non_ascii(s):\n",
        "    return \"\".join(i for i in s if ord(i)<128)\n",
        "\n",
        "def lower(text):\n",
        "    return text.lower()\n",
        "\n",
        "# remove stopwords\n",
        "def removeStopWords(str):\n",
        "    #select english stopwords\n",
        "    cachedStopWords = set(stopwords.words(\"english\"))\n",
        "    #add custom words\n",
        "    cachedStopWords.update(('and','I','A','http','And','So','arnt','This','When','It','many','Many','so','cant','Yes','yes','No','no','These','these','mailto','regards','ayanna','like','email'))\n",
        "    #remove stop words\n",
        "    new_str = ' '.join([word for word in str.split() if word not in cachedStopWords]) \n",
        "    return new_str\n",
        "\n",
        "# remove email address\n",
        "def email_address(text):\n",
        "    email = re.compile(r'[\\w\\.-]+@[\\w\\.-]+')\n",
        "    return email.sub(r'',text)\n",
        "\n",
        "def punct(text):\n",
        "    token=RegexpTokenizer(r'\\w+')#regex\n",
        "    text = token.tokenize(text)\n",
        "    text= \" \".join(text)\n",
        "    return text \n",
        "\n",
        "# remove digits and special characters\n",
        "def remove_digits(text):\n",
        "    pattern = r'[^a-zA-z.,!?/:;\\\"\\'\\s]' \n",
        "    #when the ^ is on the inside of []; we are matching any character that is not included in this expression within the []\n",
        "    return re.sub(pattern, '', text)\n",
        "\n",
        "def remove_special_characters(text):\n",
        "    # define the pattern to keep\n",
        "    pat = r'[^a-zA-z0-9.,!?/:;\\\"\\'\\s]' \n",
        "    return re.sub(pat, '', text)\n",
        "\n",
        "def remove_(tweet):\n",
        "    tweet = re.sub('([_]+)', \"\", tweet)\n",
        "    return tweet"
      ]
    },
    {
      "cell_type": "markdown",
      "id": "6a221089",
      "metadata": {
        "id": "6a221089",
        "papermill": {
          "duration": 0.009474,
          "end_time": "2022-12-14T21:28:40.244942",
          "exception": false,
          "start_time": "2022-12-14T21:28:40.235468",
          "status": "completed"
        },
        "tags": []
      },
      "source": [
        "## Loading the SMS spam collection dataset"
      ]
    },
    {
      "cell_type": "code",
      "execution_count": 128,
      "id": "8JXcWJTjOjTu",
      "metadata": {
        "colab": {
          "base_uri": "https://localhost:8080/"
        },
        "id": "8JXcWJTjOjTu",
        "outputId": "23cc1c43-f25b-41ab-ca4f-5f2cb22ce227"
      },
      "outputs": [
        {
          "output_type": "stream",
          "name": "stdout",
          "text": [
            "Drive already mounted at /content/drive; to attempt to forcibly remount, call drive.mount(\"/content/drive\", force_remount=True).\n"
          ]
        }
      ],
      "source": [
        "from google.colab import drive\n",
        "drive.mount('/content/drive')"
      ]
    },
    {
      "cell_type": "code",
      "execution_count": 129,
      "id": "1d46c4c5",
      "metadata": {
        "colab": {
          "base_uri": "https://localhost:8080/",
          "height": 441
        },
        "execution": {
          "iopub.execute_input": "2022-12-14T21:28:40.265063Z",
          "iopub.status.busy": "2022-12-14T21:28:40.264733Z",
          "iopub.status.idle": "2022-12-14T21:28:40.319645Z",
          "shell.execute_reply": "2022-12-14T21:28:40.318652Z"
        },
        "id": "1d46c4c5",
        "outputId": "57d159ce-82f8-4b24-ec9e-699186aad72f",
        "papermill": {
          "duration": 0.06734,
          "end_time": "2022-12-14T21:28:40.321803",
          "exception": false,
          "start_time": "2022-12-14T21:28:40.254463",
          "status": "completed"
        },
        "tags": []
      },
      "outputs": [
        {
          "output_type": "execute_result",
          "data": {
            "text/plain": [
              "     class  \\\n",
              "551    ham   \n",
              "3787   ham   \n",
              "1949   ham   \n",
              "1776   ham   \n",
              "3363   ham   \n",
              "992    ham   \n",
              "4064   ham   \n",
              "804   spam   \n",
              "3021   ham   \n",
              "2196   ham   \n",
              "\n",
              "                                                                                                                                                                                                                                                                                            sms  \n",
              "551   Imagine you finally get to sink into that bath after I have put you through your paces, maybe even having you eat me for a while before I left ... But also imagine the feel of that cage on your cock surrounded by the bath water, reminding you always who owns you ... Enjoy, my cuck  \n",
              "3787                                                                                                                                                                                                                                                                             Wat r u doing?  \n",
              "1949                                                                                                                                                                                                                                        I cant pick the phone right now. Pls send a message  \n",
              "1776                                                                                                                                                                                                                                                  Did u see what I posted on your Facebook?  \n",
              "3363                                                                                                                                                                                                                                               No messages on her phone. I'm holding it now  \n",
              "992                                                                                                                                              Hi im having the most relaxing time ever! we have to get up at 7am every day! was the party good the other night? I get home tomorrow at 5ish.  \n",
              "4064                                                                                                                                                                                                                                                      How are you. Its been ages. How's abj  \n",
              "804                                                                                                                                               You have won a guaranteed £200 award or even £1000 cashto claim UR award call free on 08000407165 (18+) 2 stop getstop on 88222 PHP. RG21 4JX  \n",
              "3021                                                                                                                                                                                                                   I thank you so much for all you do with selflessness. I love you plenty.  \n",
              "2196                                                                                                                                                         V-aluable. A-ffectionate. L-oveable. E-ternal. N-oble. T-ruthful. I-ntimate. N-atural. E-namous. Happy \"VALENTINES DAY\" in advance  "
            ],
            "text/html": [
              "\n",
              "  <div id=\"df-96885a64-6421-4ff5-9b5d-f329e60dedb4\">\n",
              "    <div class=\"colab-df-container\">\n",
              "      <div>\n",
              "<style scoped>\n",
              "    .dataframe tbody tr th:only-of-type {\n",
              "        vertical-align: middle;\n",
              "    }\n",
              "\n",
              "    .dataframe tbody tr th {\n",
              "        vertical-align: top;\n",
              "    }\n",
              "\n",
              "    .dataframe thead th {\n",
              "        text-align: right;\n",
              "    }\n",
              "</style>\n",
              "<table border=\"1\" class=\"dataframe\">\n",
              "  <thead>\n",
              "    <tr style=\"text-align: right;\">\n",
              "      <th></th>\n",
              "      <th>class</th>\n",
              "      <th>sms</th>\n",
              "    </tr>\n",
              "  </thead>\n",
              "  <tbody>\n",
              "    <tr>\n",
              "      <th>551</th>\n",
              "      <td>ham</td>\n",
              "      <td>Imagine you finally get to sink into that bath after I have put you through your paces, maybe even having you eat me for a while before I left ... But also imagine the feel of that cage on your cock surrounded by the bath water, reminding you always who owns you ... Enjoy, my cuck</td>\n",
              "    </tr>\n",
              "    <tr>\n",
              "      <th>3787</th>\n",
              "      <td>ham</td>\n",
              "      <td>Wat r u doing?</td>\n",
              "    </tr>\n",
              "    <tr>\n",
              "      <th>1949</th>\n",
              "      <td>ham</td>\n",
              "      <td>I cant pick the phone right now. Pls send a message</td>\n",
              "    </tr>\n",
              "    <tr>\n",
              "      <th>1776</th>\n",
              "      <td>ham</td>\n",
              "      <td>Did u see what I posted on your Facebook?</td>\n",
              "    </tr>\n",
              "    <tr>\n",
              "      <th>3363</th>\n",
              "      <td>ham</td>\n",
              "      <td>No messages on her phone. I'm holding it now</td>\n",
              "    </tr>\n",
              "    <tr>\n",
              "      <th>992</th>\n",
              "      <td>ham</td>\n",
              "      <td>Hi im having the most relaxing time ever! we have to get up at 7am every day! was the party good the other night? I get home tomorrow at 5ish.</td>\n",
              "    </tr>\n",
              "    <tr>\n",
              "      <th>4064</th>\n",
              "      <td>ham</td>\n",
              "      <td>How are you. Its been ages. How's abj</td>\n",
              "    </tr>\n",
              "    <tr>\n",
              "      <th>804</th>\n",
              "      <td>spam</td>\n",
              "      <td>You have won a guaranteed £200 award or even £1000 cashto claim UR award call free on 08000407165 (18+) 2 stop getstop on 88222 PHP. RG21 4JX</td>\n",
              "    </tr>\n",
              "    <tr>\n",
              "      <th>3021</th>\n",
              "      <td>ham</td>\n",
              "      <td>I thank you so much for all you do with selflessness. I love you plenty.</td>\n",
              "    </tr>\n",
              "    <tr>\n",
              "      <th>2196</th>\n",
              "      <td>ham</td>\n",
              "      <td>V-aluable. A-ffectionate. L-oveable. E-ternal. N-oble. T-ruthful. I-ntimate. N-atural. E-namous. Happy \"VALENTINES DAY\" in advance</td>\n",
              "    </tr>\n",
              "  </tbody>\n",
              "</table>\n",
              "</div>\n",
              "      <button class=\"colab-df-convert\" onclick=\"convertToInteractive('df-96885a64-6421-4ff5-9b5d-f329e60dedb4')\"\n",
              "              title=\"Convert this dataframe to an interactive table.\"\n",
              "              style=\"display:none;\">\n",
              "        \n",
              "  <svg xmlns=\"http://www.w3.org/2000/svg\" height=\"24px\"viewBox=\"0 0 24 24\"\n",
              "       width=\"24px\">\n",
              "    <path d=\"M0 0h24v24H0V0z\" fill=\"none\"/>\n",
              "    <path d=\"M18.56 5.44l.94 2.06.94-2.06 2.06-.94-2.06-.94-.94-2.06-.94 2.06-2.06.94zm-11 1L8.5 8.5l.94-2.06 2.06-.94-2.06-.94L8.5 2.5l-.94 2.06-2.06.94zm10 10l.94 2.06.94-2.06 2.06-.94-2.06-.94-.94-2.06-.94 2.06-2.06.94z\"/><path d=\"M17.41 7.96l-1.37-1.37c-.4-.4-.92-.59-1.43-.59-.52 0-1.04.2-1.43.59L10.3 9.45l-7.72 7.72c-.78.78-.78 2.05 0 2.83L4 21.41c.39.39.9.59 1.41.59.51 0 1.02-.2 1.41-.59l7.78-7.78 2.81-2.81c.8-.78.8-2.07 0-2.86zM5.41 20L4 18.59l7.72-7.72 1.47 1.35L5.41 20z\"/>\n",
              "  </svg>\n",
              "      </button>\n",
              "      \n",
              "  <style>\n",
              "    .colab-df-container {\n",
              "      display:flex;\n",
              "      flex-wrap:wrap;\n",
              "      gap: 12px;\n",
              "    }\n",
              "\n",
              "    .colab-df-convert {\n",
              "      background-color: #E8F0FE;\n",
              "      border: none;\n",
              "      border-radius: 50%;\n",
              "      cursor: pointer;\n",
              "      display: none;\n",
              "      fill: #1967D2;\n",
              "      height: 32px;\n",
              "      padding: 0 0 0 0;\n",
              "      width: 32px;\n",
              "    }\n",
              "\n",
              "    .colab-df-convert:hover {\n",
              "      background-color: #E2EBFA;\n",
              "      box-shadow: 0px 1px 2px rgba(60, 64, 67, 0.3), 0px 1px 3px 1px rgba(60, 64, 67, 0.15);\n",
              "      fill: #174EA6;\n",
              "    }\n",
              "\n",
              "    [theme=dark] .colab-df-convert {\n",
              "      background-color: #3B4455;\n",
              "      fill: #D2E3FC;\n",
              "    }\n",
              "\n",
              "    [theme=dark] .colab-df-convert:hover {\n",
              "      background-color: #434B5C;\n",
              "      box-shadow: 0px 1px 3px 1px rgba(0, 0, 0, 0.15);\n",
              "      filter: drop-shadow(0px 1px 2px rgba(0, 0, 0, 0.3));\n",
              "      fill: #FFFFFF;\n",
              "    }\n",
              "  </style>\n",
              "\n",
              "      <script>\n",
              "        const buttonEl =\n",
              "          document.querySelector('#df-96885a64-6421-4ff5-9b5d-f329e60dedb4 button.colab-df-convert');\n",
              "        buttonEl.style.display =\n",
              "          google.colab.kernel.accessAllowed ? 'block' : 'none';\n",
              "\n",
              "        async function convertToInteractive(key) {\n",
              "          const element = document.querySelector('#df-96885a64-6421-4ff5-9b5d-f329e60dedb4');\n",
              "          const dataTable =\n",
              "            await google.colab.kernel.invokeFunction('convertToInteractive',\n",
              "                                                     [key], {});\n",
              "          if (!dataTable) return;\n",
              "\n",
              "          const docLinkHtml = 'Like what you see? Visit the ' +\n",
              "            '<a target=\"_blank\" href=https://colab.research.google.com/notebooks/data_table.ipynb>data table notebook</a>'\n",
              "            + ' to learn more about interactive tables.';\n",
              "          element.innerHTML = '';\n",
              "          dataTable['output_type'] = 'display_data';\n",
              "          await google.colab.output.renderOutput(dataTable, element);\n",
              "          const docLink = document.createElement('div');\n",
              "          docLink.innerHTML = docLinkHtml;\n",
              "          element.appendChild(docLink);\n",
              "        }\n",
              "      </script>\n",
              "    </div>\n",
              "  </div>\n",
              "  "
            ]
          },
          "metadata": {},
          "execution_count": 129
        }
      ],
      "source": [
        "path = \"/content/drive/MyDrive/Data/\"\n",
        "names = [\"class\", \"sms\"]\n",
        "df = pd.read_csv(path + \"SMSSpamCollection.fwf\", names=names, sep='\\t')\n",
        "df.sample(10)"
      ]
    },
    {
      "cell_type": "markdown",
      "id": "1988ac79",
      "metadata": {
        "id": "1988ac79",
        "papermill": {
          "duration": 0.009348,
          "end_time": "2022-12-14T21:28:40.340995",
          "exception": false,
          "start_time": "2022-12-14T21:28:40.331647",
          "status": "completed"
        },
        "tags": []
      },
      "source": [
        "## Feature Engineering"
      ]
    },
    {
      "cell_type": "code",
      "execution_count": 130,
      "id": "65105665",
      "metadata": {
        "colab": {
          "base_uri": "https://localhost:8080/"
        },
        "execution": {
          "iopub.execute_input": "2022-12-14T21:28:40.360989Z",
          "iopub.status.busy": "2022-12-14T21:28:40.360693Z",
          "iopub.status.idle": "2022-12-14T21:28:40.366006Z",
          "shell.execute_reply": "2022-12-14T21:28:40.365115Z"
        },
        "id": "65105665",
        "outputId": "7af43f23-ad75-4c7b-fbdc-b9c5e18962fb",
        "papermill": {
          "duration": 0.017436,
          "end_time": "2022-12-14T21:28:40.367857",
          "exception": false,
          "start_time": "2022-12-14T21:28:40.350421",
          "status": "completed"
        },
        "tags": []
      },
      "outputs": [
        {
          "output_type": "execute_result",
          "data": {
            "text/plain": [
              "(5572, 2)"
            ]
          },
          "metadata": {},
          "execution_count": 130
        }
      ],
      "source": [
        "df.shape"
      ]
    },
    {
      "cell_type": "code",
      "execution_count": 131,
      "id": "51b1aa9d",
      "metadata": {
        "colab": {
          "base_uri": "https://localhost:8080/"
        },
        "execution": {
          "iopub.execute_input": "2022-12-14T21:28:40.388577Z",
          "iopub.status.busy": "2022-12-14T21:28:40.387966Z",
          "iopub.status.idle": "2022-12-14T21:28:40.395794Z",
          "shell.execute_reply": "2022-12-14T21:28:40.394932Z"
        },
        "id": "51b1aa9d",
        "outputId": "978f29dc-7360-4efe-8753-59158fa61a55",
        "papermill": {
          "duration": 0.020242,
          "end_time": "2022-12-14T21:28:40.397845",
          "exception": false,
          "start_time": "2022-12-14T21:28:40.377603",
          "status": "completed"
        },
        "tags": []
      },
      "outputs": [
        {
          "output_type": "execute_result",
          "data": {
            "text/plain": [
              "class    0\n",
              "sms      0\n",
              "dtype: int64"
            ]
          },
          "metadata": {},
          "execution_count": 131
        }
      ],
      "source": [
        "df.isna().sum()"
      ]
    },
    {
      "cell_type": "code",
      "execution_count": 132,
      "id": "0d612e86",
      "metadata": {
        "colab": {
          "base_uri": "https://localhost:8080/"
        },
        "execution": {
          "iopub.execute_input": "2022-12-14T21:28:40.418438Z",
          "iopub.status.busy": "2022-12-14T21:28:40.418175Z",
          "iopub.status.idle": "2022-12-14T21:28:40.434422Z",
          "shell.execute_reply": "2022-12-14T21:28:40.433466Z"
        },
        "id": "0d612e86",
        "outputId": "e3de56a0-1ade-4934-8865-b23c2dab761e",
        "papermill": {
          "duration": 0.028658,
          "end_time": "2022-12-14T21:28:40.436316",
          "exception": false,
          "start_time": "2022-12-14T21:28:40.407658",
          "status": "completed"
        },
        "tags": []
      },
      "outputs": [
        {
          "output_type": "execute_result",
          "data": {
            "text/plain": [
              "403"
            ]
          },
          "metadata": {},
          "execution_count": 132
        }
      ],
      "source": [
        "df.duplicated().sum()"
      ]
    },
    {
      "cell_type": "code",
      "execution_count": 133,
      "id": "9a46220f",
      "metadata": {
        "colab": {
          "base_uri": "https://localhost:8080/"
        },
        "execution": {
          "iopub.execute_input": "2022-12-14T21:28:40.456987Z",
          "iopub.status.busy": "2022-12-14T21:28:40.456713Z",
          "iopub.status.idle": "2022-12-14T21:28:40.467158Z",
          "shell.execute_reply": "2022-12-14T21:28:40.466215Z"
        },
        "id": "9a46220f",
        "outputId": "cb7b1073-f401-4aaf-e520-508e26244498",
        "papermill": {
          "duration": 0.022882,
          "end_time": "2022-12-14T21:28:40.469043",
          "exception": false,
          "start_time": "2022-12-14T21:28:40.446161",
          "status": "completed"
        },
        "tags": []
      },
      "outputs": [
        {
          "output_type": "execute_result",
          "data": {
            "text/plain": [
              "(5169, 2)"
            ]
          },
          "metadata": {},
          "execution_count": 133
        }
      ],
      "source": [
        "df = df.drop_duplicates()\n",
        "df.shape"
      ]
    },
    {
      "cell_type": "code",
      "execution_count": 134,
      "id": "d642b71d",
      "metadata": {
        "colab": {
          "base_uri": "https://localhost:8080/"
        },
        "execution": {
          "iopub.execute_input": "2022-12-14T21:28:40.490425Z",
          "iopub.status.busy": "2022-12-14T21:28:40.489782Z",
          "iopub.status.idle": "2022-12-14T21:28:40.497673Z",
          "shell.execute_reply": "2022-12-14T21:28:40.496761Z"
        },
        "id": "d642b71d",
        "outputId": "cde8d583-ad43-4dea-eb80-2657cdc2c21b",
        "papermill": {
          "duration": 0.02059,
          "end_time": "2022-12-14T21:28:40.499671",
          "exception": false,
          "start_time": "2022-12-14T21:28:40.479081",
          "status": "completed"
        },
        "tags": []
      },
      "outputs": [
        {
          "output_type": "execute_result",
          "data": {
            "text/plain": [
              "(5169, 2)"
            ]
          },
          "metadata": {},
          "execution_count": 134
        }
      ],
      "source": [
        "df = df.dropna()\n",
        "df.shape"
      ]
    },
    {
      "cell_type": "code",
      "execution_count": 135,
      "id": "93c60f70",
      "metadata": {
        "colab": {
          "base_uri": "https://localhost:8080/",
          "height": 498
        },
        "execution": {
          "iopub.execute_input": "2022-12-14T21:28:40.521069Z",
          "iopub.status.busy": "2022-12-14T21:28:40.520802Z",
          "iopub.status.idle": "2022-12-14T21:28:40.905797Z",
          "shell.execute_reply": "2022-12-14T21:28:40.904764Z"
        },
        "id": "93c60f70",
        "outputId": "6ce62bb7-7b1b-457f-e4ff-32180aa6e9ca",
        "papermill": {
          "duration": 0.398094,
          "end_time": "2022-12-14T21:28:40.908031",
          "exception": false,
          "start_time": "2022-12-14T21:28:40.509937",
          "status": "completed"
        },
        "tags": []
      },
      "outputs": [
        {
          "output_type": "display_data",
          "data": {
            "text/plain": [
              "<Figure size 864x576 with 1 Axes>"
            ],
            "image/png": "[encoded data removed]"
          },
          "metadata": {
            "needs_background": "light"
          }
        }
      ],
      "source": [
        "df['num_words'] = df['sms'].apply(len)\n",
        "sns.distplot(df.num_words);"
      ]
    },
    {
      "cell_type": "code",
      "execution_count": 136,
      "id": "39036fc5",
      "metadata": {
        "colab": {
          "base_uri": "https://localhost:8080/",
          "height": 498
        },
        "execution": {
          "iopub.execute_input": "2022-12-14T21:28:40.932411Z",
          "iopub.status.busy": "2022-12-14T21:28:40.931496Z",
          "iopub.status.idle": "2022-12-14T21:28:41.311697Z",
          "shell.execute_reply": "2022-12-14T21:28:41.310780Z"
        },
        "id": "39036fc5",
        "outputId": "e6907cdc-4084-4174-acb2-02b75fcc4436",
        "papermill": {
          "duration": 0.39465,
          "end_time": "2022-12-14T21:28:41.313895",
          "exception": false,
          "start_time": "2022-12-14T21:28:40.919245",
          "status": "completed"
        },
        "tags": []
      },
      "outputs": [
        {
          "output_type": "display_data",
          "data": {
            "text/plain": [
              "<Figure size 864x576 with 1 Axes>"
            ],
            "image/png": "[encoded data removed]"
          },
          "metadata": {
            "needs_background": "light"
          }
        }
      ],
      "source": [
        "sns.histplot(df.num_words);"
      ]
    },
    {
      "cell_type": "code",
      "execution_count": 137,
      "id": "1850db74",
      "metadata": {
        "colab": {
          "base_uri": "https://localhost:8080/"
        },
        "execution": {
          "iopub.execute_input": "2022-12-14T21:28:41.337659Z",
          "iopub.status.busy": "2022-12-14T21:28:41.336819Z",
          "iopub.status.idle": "2022-12-14T21:28:41.344136Z",
          "shell.execute_reply": "2022-12-14T21:28:41.343261Z"
        },
        "id": "1850db74",
        "outputId": "d777f6cc-718f-41f4-f124-444b286558db",
        "papermill": {
          "duration": 0.021122,
          "end_time": "2022-12-14T21:28:41.346222",
          "exception": false,
          "start_time": "2022-12-14T21:28:41.325100",
          "status": "completed"
        },
        "tags": []
      },
      "outputs": [
        {
          "output_type": "stream",
          "name": "stdout",
          "text": [
            "Average number of words in an tweet:79.34\n"
          ]
        }
      ],
      "source": [
        "print(f\"Average number of words in an tweet:{df.num_words.mean():.2f}\")"
      ]
    },
    {
      "cell_type": "code",
      "execution_count": 138,
      "id": "2655ff5c",
      "metadata": {
        "colab": {
          "base_uri": "https://localhost:8080/"
        },
        "execution": {
          "iopub.execute_input": "2022-12-14T21:28:41.368904Z",
          "iopub.status.busy": "2022-12-14T21:28:41.368619Z",
          "iopub.status.idle": "2022-12-14T21:28:41.379164Z",
          "shell.execute_reply": "2022-12-14T21:28:41.378156Z"
        },
        "id": "2655ff5c",
        "outputId": "64fff878-4394-4d69-8fec-b1180fcd5a87",
        "papermill": {
          "duration": 0.024048,
          "end_time": "2022-12-14T21:28:41.381198",
          "exception": false,
          "start_time": "2022-12-14T21:28:41.357150",
          "status": "completed"
        },
        "tags": []
      },
      "outputs": [
        {
          "output_type": "execute_result",
          "data": {
            "text/plain": [
              "count    5169.000000\n",
              "mean       79.344554\n",
              "std        58.437457\n",
              "min         2.000000\n",
              "25%        36.000000\n",
              "50%        61.000000\n",
              "75%       119.000000\n",
              "max       910.000000\n",
              "Name: num_words, dtype: float64"
            ]
          },
          "metadata": {},
          "execution_count": 138
        }
      ],
      "source": [
        "df.num_words.describe()"
      ]
    },
    {
      "cell_type": "code",
      "execution_count": 139,
      "id": "d36534c5",
      "metadata": {
        "execution": {
          "iopub.execute_input": "2022-12-14T21:28:41.405363Z",
          "iopub.status.busy": "2022-12-14T21:28:41.404583Z",
          "iopub.status.idle": "2022-12-14T21:28:41.409246Z",
          "shell.execute_reply": "2022-12-14T21:28:41.408367Z"
        },
        "id": "d36534c5",
        "papermill": {
          "duration": 0.018425,
          "end_time": "2022-12-14T21:28:41.411174",
          "exception": false,
          "start_time": "2022-12-14T21:28:41.392749",
          "status": "completed"
        },
        "tags": []
      },
      "outputs": [],
      "source": [
        "max_len = 67"
      ]
    },
    {
      "cell_type": "markdown",
      "id": "d35febfb",
      "metadata": {
        "id": "d35febfb",
        "papermill": {
          "duration": 0.01329,
          "end_time": "2022-12-14T21:28:42.914115",
          "exception": false,
          "start_time": "2022-12-14T21:28:42.900825",
          "status": "completed"
        },
        "tags": []
      },
      "source": [
        "## Text Preprocessing"
      ]
    },
    {
      "cell_type": "code",
      "execution_count": 140,
      "id": "57749240",
      "metadata": {
        "execution": {
          "iopub.execute_input": "2022-12-14T21:28:42.943599Z",
          "iopub.status.busy": "2022-12-14T21:28:42.942740Z",
          "iopub.status.idle": "2022-12-14T21:28:42.950229Z",
          "shell.execute_reply": "2022-12-14T21:28:42.949269Z"
        },
        "id": "57749240",
        "papermill": {
          "duration": 0.024089,
          "end_time": "2022-12-14T21:28:42.952167",
          "exception": false,
          "start_time": "2022-12-14T21:28:42.928078",
          "status": "completed"
        },
        "tags": []
      },
      "outputs": [],
      "source": [
        "def text_preprocess(data,col):\n",
        "    data[col] = data[col].apply(func=clean_html)\n",
        "    data[col] = data[col].apply(func=remove_)\n",
        "    data[col] = data[col].apply(func=removeStopWords)\n",
        "    data[col] = data[col].apply(func=remove_digits)\n",
        "    data[col] = data[col].apply(func=remove_links)\n",
        "    data[col] = data[col].apply(func=remove_special_characters)\n",
        "    data[col] = data[col].apply(func=punct)\n",
        "    data[col] = data[col].apply(func=non_ascii)\n",
        "    data[col] = data[col].apply(func=email_address)\n",
        "    data[col] = data[col].apply(func=lower)\n",
        "    return data"
      ]
    },
    {
      "cell_type": "code",
      "execution_count": 141,
      "id": "c0570d65",
      "metadata": {
        "execution": {
          "iopub.execute_input": "2022-12-14T21:28:42.980819Z",
          "iopub.status.busy": "2022-12-14T21:28:42.980517Z",
          "iopub.status.idle": "2022-12-14T21:28:43.804729Z",
          "shell.execute_reply": "2022-12-14T21:28:43.803655Z"
        },
        "id": "c0570d65",
        "papermill": {
          "duration": 0.841886,
          "end_time": "2022-12-14T21:28:43.807467",
          "exception": false,
          "start_time": "2022-12-14T21:28:42.965581",
          "status": "completed"
        },
        "tags": []
      },
      "outputs": [],
      "source": [
        "preprocessed_df = text_preprocess(df,'sms')"
      ]
    },
    {
      "cell_type": "code",
      "execution_count": 142,
      "id": "lDlp4cjByB0O",
      "metadata": {
        "colab": {
          "base_uri": "https://localhost:8080/",
          "height": 363
        },
        "id": "lDlp4cjByB0O",
        "outputId": "b56c2805-ef67-4aa5-f126-9ac925028aca"
      },
      "outputs": [
        {
          "output_type": "execute_result",
          "data": {
            "text/plain": [
              "     class  \\\n",
              "2491   ham   \n",
              "3045   ham   \n",
              "3580   ham   \n",
              "500    ham   \n",
              "3617   ham   \n",
              "935   spam   \n",
              "1458  spam   \n",
              "4160   ham   \n",
              "4533   ham   \n",
              "2389   ham   \n",
              "\n",
              "                                                                                                                  sms  \\\n",
              "2491                                                  dun b sad it s over dun thk abt already concentrate ur papers k   \n",
              "3045                          let know changes next hrs even appendix age range however impossible chill let know hrs   \n",
              "3580                 multiply numbers independently count decimal points then division push decimal places showed you   \n",
              "500                                                                                                  dear reache room   \n",
              "3617              can please ask macho price range is want something new used plus interfued blackberry bold lt gt bb   \n",
              "935   dear matthew please call landline complimentary lux tenerife holiday cash await collection ppm sae tcs box skxh   \n",
              "1458         claire havin borin time alone u wanna cum nite chat hope c u luv claire xx calls minmoremobsemspoboxpowa   \n",
              "4160                                                                                now got tv watch meh u work today   \n",
              "4533                                                                          ok days making dinner tonite am invited   \n",
              "2389                             wiskey brandy rum gin beer vodka scotch shampain wine kudi yarasu dhina vaazhthukkal   \n",
              "\n",
              "      num_words  \n",
              "2491         81  \n",
              "3045        169  \n",
              "3580        126  \n",
              "500          23  \n",
              "3617        155  \n",
              "935         158  \n",
              "1458        153  \n",
              "4160         40  \n",
              "4533         73  \n",
              "2389         89  "
            ],
            "text/html": [
              "\n",
              "  <div id=\"df-e8cd2894-4e4d-49f0-923e-b6d28e79f416\">\n",
              "    <div class=\"colab-df-container\">\n",
              "      <div>\n",
              "<style scoped>\n",
              "    .dataframe tbody tr th:only-of-type {\n",
              "        vertical-align: middle;\n",
              "    }\n",
              "\n",
              "    .dataframe tbody tr th {\n",
              "        vertical-align: top;\n",
              "    }\n",
              "\n",
              "    .dataframe thead th {\n",
              "        text-align: right;\n",
              "    }\n",
              "</style>\n",
              "<table border=\"1\" class=\"dataframe\">\n",
              "  <thead>\n",
              "    <tr style=\"text-align: right;\">\n",
              "      <th></th>\n",
              "      <th>class</th>\n",
              "      <th>sms</th>\n",
              "      <th>num_words</th>\n",
              "    </tr>\n",
              "  </thead>\n",
              "  <tbody>\n",
              "    <tr>\n",
              "      <th>2491</th>\n",
              "      <td>ham</td>\n",
              "      <td>dun b sad it s over dun thk abt already concentrate ur papers k</td>\n",
              "      <td>81</td>\n",
              "    </tr>\n",
              "    <tr>\n",
              "      <th>3045</th>\n",
              "      <td>ham</td>\n",
              "      <td>let know changes next hrs even appendix age range however impossible chill let know hrs</td>\n",
              "      <td>169</td>\n",
              "    </tr>\n",
              "    <tr>\n",
              "      <th>3580</th>\n",
              "      <td>ham</td>\n",
              "      <td>multiply numbers independently count decimal points then division push decimal places showed you</td>\n",
              "      <td>126</td>\n",
              "    </tr>\n",
              "    <tr>\n",
              "      <th>500</th>\n",
              "      <td>ham</td>\n",
              "      <td>dear reache room</td>\n",
              "      <td>23</td>\n",
              "    </tr>\n",
              "    <tr>\n",
              "      <th>3617</th>\n",
              "      <td>ham</td>\n",
              "      <td>can please ask macho price range is want something new used plus interfued blackberry bold lt gt bb</td>\n",
              "      <td>155</td>\n",
              "    </tr>\n",
              "    <tr>\n",
              "      <th>935</th>\n",
              "      <td>spam</td>\n",
              "      <td>dear matthew please call landline complimentary lux tenerife holiday cash await collection ppm sae tcs box skxh</td>\n",
              "      <td>158</td>\n",
              "    </tr>\n",
              "    <tr>\n",
              "      <th>1458</th>\n",
              "      <td>spam</td>\n",
              "      <td>claire havin borin time alone u wanna cum nite chat hope c u luv claire xx calls minmoremobsemspoboxpowa</td>\n",
              "      <td>153</td>\n",
              "    </tr>\n",
              "    <tr>\n",
              "      <th>4160</th>\n",
              "      <td>ham</td>\n",
              "      <td>now got tv watch meh u work today</td>\n",
              "      <td>40</td>\n",
              "    </tr>\n",
              "    <tr>\n",
              "      <th>4533</th>\n",
              "      <td>ham</td>\n",
              "      <td>ok days making dinner tonite am invited</td>\n",
              "      <td>73</td>\n",
              "    </tr>\n",
              "    <tr>\n",
              "      <th>2389</th>\n",
              "      <td>ham</td>\n",
              "      <td>wiskey brandy rum gin beer vodka scotch shampain wine kudi yarasu dhina vaazhthukkal</td>\n",
              "      <td>89</td>\n",
              "    </tr>\n",
              "  </tbody>\n",
              "</table>\n",
              "</div>\n",
              "      <button class=\"colab-df-convert\" onclick=\"convertToInteractive('df-e8cd2894-4e4d-49f0-923e-b6d28e79f416')\"\n",
              "              title=\"Convert this dataframe to an interactive table.\"\n",
              "              style=\"display:none;\">\n",
              "        \n",
              "  <svg xmlns=\"http://www.w3.org/2000/svg\" height=\"24px\"viewBox=\"0 0 24 24\"\n",
              "       width=\"24px\">\n",
              "    <path d=\"M0 0h24v24H0V0z\" fill=\"none\"/>\n",
              "    <path d=\"M18.56 5.44l.94 2.06.94-2.06 2.06-.94-2.06-.94-.94-2.06-.94 2.06-2.06.94zm-11 1L8.5 8.5l.94-2.06 2.06-.94-2.06-.94L8.5 2.5l-.94 2.06-2.06.94zm10 10l.94 2.06.94-2.06 2.06-.94-2.06-.94-.94-2.06-.94 2.06-2.06.94z\"/><path d=\"M17.41 7.96l-1.37-1.37c-.4-.4-.92-.59-1.43-.59-.52 0-1.04.2-1.43.59L10.3 9.45l-7.72 7.72c-.78.78-.78 2.05 0 2.83L4 21.41c.39.39.9.59 1.41.59.51 0 1.02-.2 1.41-.59l7.78-7.78 2.81-2.81c.8-.78.8-2.07 0-2.86zM5.41 20L4 18.59l7.72-7.72 1.47 1.35L5.41 20z\"/>\n",
              "  </svg>\n",
              "      </button>\n",
              "      \n",
              "  <style>\n",
              "    .colab-df-container {\n",
              "      display:flex;\n",
              "      flex-wrap:wrap;\n",
              "      gap: 12px;\n",
              "    }\n",
              "\n",
              "    .colab-df-convert {\n",
              "      background-color: #E8F0FE;\n",
              "      border: none;\n",
              "      border-radius: 50%;\n",
              "      cursor: pointer;\n",
              "      display: none;\n",
              "      fill: #1967D2;\n",
              "      height: 32px;\n",
              "      padding: 0 0 0 0;\n",
              "      width: 32px;\n",
              "    }\n",
              "\n",
              "    .colab-df-convert:hover {\n",
              "      background-color: #E2EBFA;\n",
              "      box-shadow: 0px 1px 2px rgba(60, 64, 67, 0.3), 0px 1px 3px 1px rgba(60, 64, 67, 0.15);\n",
              "      fill: #174EA6;\n",
              "    }\n",
              "\n",
              "    [theme=dark] .colab-df-convert {\n",
              "      background-color: #3B4455;\n",
              "      fill: #D2E3FC;\n",
              "    }\n",
              "\n",
              "    [theme=dark] .colab-df-convert:hover {\n",
              "      background-color: #434B5C;\n",
              "      box-shadow: 0px 1px 3px 1px rgba(0, 0, 0, 0.15);\n",
              "      filter: drop-shadow(0px 1px 2px rgba(0, 0, 0, 0.3));\n",
              "      fill: #FFFFFF;\n",
              "    }\n",
              "  </style>\n",
              "\n",
              "      <script>\n",
              "        const buttonEl =\n",
              "          document.querySelector('#df-e8cd2894-4e4d-49f0-923e-b6d28e79f416 button.colab-df-convert');\n",
              "        buttonEl.style.display =\n",
              "          google.colab.kernel.accessAllowed ? 'block' : 'none';\n",
              "\n",
              "        async function convertToInteractive(key) {\n",
              "          const element = document.querySelector('#df-e8cd2894-4e4d-49f0-923e-b6d28e79f416');\n",
              "          const dataTable =\n",
              "            await google.colab.kernel.invokeFunction('convertToInteractive',\n",
              "                                                     [key], {});\n",
              "          if (!dataTable) return;\n",
              "\n",
              "          const docLinkHtml = 'Like what you see? Visit the ' +\n",
              "            '<a target=\"_blank\" href=https://colab.research.google.com/notebooks/data_table.ipynb>data table notebook</a>'\n",
              "            + ' to learn more about interactive tables.';\n",
              "          element.innerHTML = '';\n",
              "          dataTable['output_type'] = 'display_data';\n",
              "          await google.colab.output.renderOutput(dataTable, element);\n",
              "          const docLink = document.createElement('div');\n",
              "          docLink.innerHTML = docLinkHtml;\n",
              "          element.appendChild(docLink);\n",
              "        }\n",
              "      </script>\n",
              "    </div>\n",
              "  </div>\n",
              "  "
            ]
          },
          "metadata": {},
          "execution_count": 142
        }
      ],
      "source": [
        "preprocessed_df.sample(10)"
      ]
    },
    {
      "cell_type": "markdown",
      "id": "8fc97e04",
      "metadata": {
        "id": "8fc97e04",
        "papermill": {
          "duration": 0.013624,
          "end_time": "2022-12-14T21:28:43.835323",
          "exception": false,
          "start_time": "2022-12-14T21:28:43.821699",
          "status": "completed"
        },
        "tags": []
      },
      "source": [
        "## Splitting the dataset into training and test sets"
      ]
    },
    {
      "cell_type": "code",
      "execution_count": 143,
      "id": "5430a429",
      "metadata": {
        "execution": {
          "iopub.execute_input": "2022-12-14T21:28:43.864280Z",
          "iopub.status.busy": "2022-12-14T21:28:43.863992Z",
          "iopub.status.idle": "2022-12-14T21:28:43.873877Z",
          "shell.execute_reply": "2022-12-14T21:28:43.872888Z"
        },
        "id": "5430a429",
        "papermill": {
          "duration": 0.026925,
          "end_time": "2022-12-14T21:28:43.875932",
          "exception": false,
          "start_time": "2022-12-14T21:28:43.849007",
          "status": "completed"
        },
        "tags": []
      },
      "outputs": [],
      "source": [
        "train_df, test_df = train_test_split(preprocessed_df,test_size=0.2,random_state=26,shuffle=True,stratify=preprocessed_df[\"class\"])"
      ]
    },
    {
      "cell_type": "code",
      "execution_count": 144,
      "id": "ytomavmrzFaO",
      "metadata": {
        "colab": {
          "base_uri": "https://localhost:8080/",
          "height": 206
        },
        "id": "ytomavmrzFaO",
        "outputId": "190a33ed-4f80-4579-f965-f0e76232892a"
      },
      "outputs": [
        {
          "output_type": "execute_result",
          "data": {
            "text/plain": [
              "     class  \\\n",
              "4651   ham   \n",
              "1420   ham   \n",
              "1028   ham   \n",
              "616    ham   \n",
              "114   spam   \n",
              "\n",
              "                                                                                                            sms  \\\n",
              "4651                 finally happened aftr decades beer cheaper petrol the goverment expects us drink but drive   \n",
              "1420                                                                   speak feel words better silence gud mrng   \n",
              "1028                                                                                  are around still asleep v   \n",
              "616           happy valentines day know early hundreds handsomes beauties wish thought finish aunties uncles st   \n",
              "114   gent we trying contact you last weekends draw shows prize guaranteed call claim code k valid hrs only ppm   \n",
              "\n",
              "      num_words  \n",
              "4651        135  \n",
              "1420         78  \n",
              "1028         43  \n",
              "616         145  \n",
              "114         158  "
            ],
            "text/html": [
              "\n",
              "  <div id=\"df-b725cf20-e05b-4026-a6af-67392ef30950\">\n",
              "    <div class=\"colab-df-container\">\n",
              "      <div>\n",
              "<style scoped>\n",
              "    .dataframe tbody tr th:only-of-type {\n",
              "        vertical-align: middle;\n",
              "    }\n",
              "\n",
              "    .dataframe tbody tr th {\n",
              "        vertical-align: top;\n",
              "    }\n",
              "\n",
              "    .dataframe thead th {\n",
              "        text-align: right;\n",
              "    }\n",
              "</style>\n",
              "<table border=\"1\" class=\"dataframe\">\n",
              "  <thead>\n",
              "    <tr style=\"text-align: right;\">\n",
              "      <th></th>\n",
              "      <th>class</th>\n",
              "      <th>sms</th>\n",
              "      <th>num_words</th>\n",
              "    </tr>\n",
              "  </thead>\n",
              "  <tbody>\n",
              "    <tr>\n",
              "      <th>4651</th>\n",
              "      <td>ham</td>\n",
              "      <td>finally happened aftr decades beer cheaper petrol the goverment expects us drink but drive</td>\n",
              "      <td>135</td>\n",
              "    </tr>\n",
              "    <tr>\n",
              "      <th>1420</th>\n",
              "      <td>ham</td>\n",
              "      <td>speak feel words better silence gud mrng</td>\n",
              "      <td>78</td>\n",
              "    </tr>\n",
              "    <tr>\n",
              "      <th>1028</th>\n",
              "      <td>ham</td>\n",
              "      <td>are around still asleep v</td>\n",
              "      <td>43</td>\n",
              "    </tr>\n",
              "    <tr>\n",
              "      <th>616</th>\n",
              "      <td>ham</td>\n",
              "      <td>happy valentines day know early hundreds handsomes beauties wish thought finish aunties uncles st</td>\n",
              "      <td>145</td>\n",
              "    </tr>\n",
              "    <tr>\n",
              "      <th>114</th>\n",
              "      <td>spam</td>\n",
              "      <td>gent we trying contact you last weekends draw shows prize guaranteed call claim code k valid hrs only ppm</td>\n",
              "      <td>158</td>\n",
              "    </tr>\n",
              "  </tbody>\n",
              "</table>\n",
              "</div>\n",
              "      <button class=\"colab-df-convert\" onclick=\"convertToInteractive('df-b725cf20-e05b-4026-a6af-67392ef30950')\"\n",
              "              title=\"Convert this dataframe to an interactive table.\"\n",
              "              style=\"display:none;\">\n",
              "        \n",
              "  <svg xmlns=\"http://www.w3.org/2000/svg\" height=\"24px\"viewBox=\"0 0 24 24\"\n",
              "       width=\"24px\">\n",
              "    <path d=\"M0 0h24v24H0V0z\" fill=\"none\"/>\n",
              "    <path d=\"M18.56 5.44l.94 2.06.94-2.06 2.06-.94-2.06-.94-.94-2.06-.94 2.06-2.06.94zm-11 1L8.5 8.5l.94-2.06 2.06-.94-2.06-.94L8.5 2.5l-.94 2.06-2.06.94zm10 10l.94 2.06.94-2.06 2.06-.94-2.06-.94-.94-2.06-.94 2.06-2.06.94z\"/><path d=\"M17.41 7.96l-1.37-1.37c-.4-.4-.92-.59-1.43-.59-.52 0-1.04.2-1.43.59L10.3 9.45l-7.72 7.72c-.78.78-.78 2.05 0 2.83L4 21.41c.39.39.9.59 1.41.59.51 0 1.02-.2 1.41-.59l7.78-7.78 2.81-2.81c.8-.78.8-2.07 0-2.86zM5.41 20L4 18.59l7.72-7.72 1.47 1.35L5.41 20z\"/>\n",
              "  </svg>\n",
              "      </button>\n",
              "      \n",
              "  <style>\n",
              "    .colab-df-container {\n",
              "      display:flex;\n",
              "      flex-wrap:wrap;\n",
              "      gap: 12px;\n",
              "    }\n",
              "\n",
              "    .colab-df-convert {\n",
              "      background-color: #E8F0FE;\n",
              "      border: none;\n",
              "      border-radius: 50%;\n",
              "      cursor: pointer;\n",
              "      display: none;\n",
              "      fill: #1967D2;\n",
              "      height: 32px;\n",
              "      padding: 0 0 0 0;\n",
              "      width: 32px;\n",
              "    }\n",
              "\n",
              "    .colab-df-convert:hover {\n",
              "      background-color: #E2EBFA;\n",
              "      box-shadow: 0px 1px 2px rgba(60, 64, 67, 0.3), 0px 1px 3px 1px rgba(60, 64, 67, 0.15);\n",
              "      fill: #174EA6;\n",
              "    }\n",
              "\n",
              "    [theme=dark] .colab-df-convert {\n",
              "      background-color: #3B4455;\n",
              "      fill: #D2E3FC;\n",
              "    }\n",
              "\n",
              "    [theme=dark] .colab-df-convert:hover {\n",
              "      background-color: #434B5C;\n",
              "      box-shadow: 0px 1px 3px 1px rgba(0, 0, 0, 0.15);\n",
              "      filter: drop-shadow(0px 1px 2px rgba(0, 0, 0, 0.3));\n",
              "      fill: #FFFFFF;\n",
              "    }\n",
              "  </style>\n",
              "\n",
              "      <script>\n",
              "        const buttonEl =\n",
              "          document.querySelector('#df-b725cf20-e05b-4026-a6af-67392ef30950 button.colab-df-convert');\n",
              "        buttonEl.style.display =\n",
              "          google.colab.kernel.accessAllowed ? 'block' : 'none';\n",
              "\n",
              "        async function convertToInteractive(key) {\n",
              "          const element = document.querySelector('#df-b725cf20-e05b-4026-a6af-67392ef30950');\n",
              "          const dataTable =\n",
              "            await google.colab.kernel.invokeFunction('convertToInteractive',\n",
              "                                                     [key], {});\n",
              "          if (!dataTable) return;\n",
              "\n",
              "          const docLinkHtml = 'Like what you see? Visit the ' +\n",
              "            '<a target=\"_blank\" href=https://colab.research.google.com/notebooks/data_table.ipynb>data table notebook</a>'\n",
              "            + ' to learn more about interactive tables.';\n",
              "          element.innerHTML = '';\n",
              "          dataTable['output_type'] = 'display_data';\n",
              "          await google.colab.output.renderOutput(dataTable, element);\n",
              "          const docLink = document.createElement('div');\n",
              "          docLink.innerHTML = docLinkHtml;\n",
              "          element.appendChild(docLink);\n",
              "        }\n",
              "      </script>\n",
              "    </div>\n",
              "  </div>\n",
              "  "
            ]
          },
          "metadata": {},
          "execution_count": 144
        }
      ],
      "source": [
        "train_df.sample(5)"
      ]
    },
    {
      "cell_type": "code",
      "execution_count": 145,
      "id": "atQI9jwLzmMR",
      "metadata": {
        "colab": {
          "base_uri": "https://localhost:8080/"
        },
        "id": "atQI9jwLzmMR",
        "outputId": "7e683e0a-fb42-4b25-e464-e037cef19cb6"
      },
      "outputs": [
        {
          "output_type": "execute_result",
          "data": {
            "text/plain": [
              "((4135, 3), (1034, 3))"
            ]
          },
          "metadata": {},
          "execution_count": 145
        }
      ],
      "source": [
        "train_df.shape, test_df.shape "
      ]
    },
    {
      "cell_type": "markdown",
      "id": "1tJSXfO64Kea",
      "metadata": {
        "id": "1tJSXfO64Kea"
      },
      "source": [
        "## Encode `Sentiment` as class"
      ]
    },
    {
      "cell_type": "code",
      "execution_count": 146,
      "id": "gS6Na-UP4VXo",
      "metadata": {
        "id": "gS6Na-UP4VXo"
      },
      "outputs": [],
      "source": [
        "encoder = LabelEncoder()\n",
        "y_train = encoder.fit_transform(train_df[\"class\"])\n",
        "y_test = encoder.fit_transform(test_df[\"class\"])"
      ]
    },
    {
      "cell_type": "code",
      "execution_count": 147,
      "id": "1fdMaypv4zio",
      "metadata": {
        "colab": {
          "base_uri": "https://localhost:8080/"
        },
        "id": "1fdMaypv4zio",
        "outputId": "764217ee-d88e-44f9-ac22-b8cd2188cb99"
      },
      "outputs": [
        {
          "output_type": "stream",
          "name": "stdout",
          "text": [
            "[0 0 1 0 0]\n"
          ]
        }
      ],
      "source": [
        "print(y_train[0:5])"
      ]
    },
    {
      "cell_type": "markdown",
      "id": "53a4ef6b",
      "metadata": {
        "id": "53a4ef6b",
        "papermill": {
          "duration": 0.013356,
          "end_time": "2022-12-14T21:28:43.903348",
          "exception": false,
          "start_time": "2022-12-14T21:28:43.889992",
          "status": "completed"
        },
        "tags": []
      },
      "source": [
        "## Loading the pretrained Tokenizer class and the pretrained ROBERTA-BASE transformer model"
      ]
    },
    {
      "cell_type": "code",
      "execution_count": 148,
      "id": "3d55bd7d",
      "metadata": {
        "colab": {
          "base_uri": "https://localhost:8080/"
        },
        "execution": {
          "iopub.execute_input": "2022-12-14T21:28:43.931809Z",
          "iopub.status.busy": "2022-12-14T21:28:43.931549Z",
          "iopub.status.idle": "2022-12-14T21:29:14.085602Z",
          "shell.execute_reply": "2022-12-14T21:29:14.084586Z"
        },
        "id": "3d55bd7d",
        "outputId": "4f9088a6-2a35-42a3-dc2e-7b17e969aed8",
        "papermill": {
          "duration": 30.180608,
          "end_time": "2022-12-14T21:29:14.097668",
          "exception": false,
          "start_time": "2022-12-14T21:28:43.917060",
          "status": "completed"
        },
        "tags": []
      },
      "outputs": [
        {
          "output_type": "stream",
          "name": "stderr",
          "text": [
            "All PyTorch model weights were used when initializing TFBertForSequenceClassification.\n",
            "\n",
            "Some weights or buffers of the TF 2.0 model TFBertForSequenceClassification were not initialized from the PyTorch model and are newly initialized: ['classifier.weight', 'classifier.bias']\n",
            "You should probably TRAIN this model on a down-stream task to be able to use it for predictions and inference.\n"
          ]
        }
      ],
      "source": [
        "tokenizer = AutoTokenizer.from_pretrained(\"bert-base-cased\")\n",
        "bert = TFAutoModelForSequenceClassification.from_pretrained(\"bert-base-cased\",from_pt=True)"
      ]
    },
    {
      "cell_type": "markdown",
      "id": "7240188c",
      "metadata": {
        "id": "7240188c",
        "papermill": {
          "duration": 0.01475,
          "end_time": "2022-12-14T21:29:14.127429",
          "exception": false,
          "start_time": "2022-12-14T21:29:14.112679",
          "status": "completed"
        },
        "tags": []
      },
      "source": [
        "## Performing text tokenization"
      ]
    },
    {
      "cell_type": "code",
      "execution_count": 149,
      "id": "88e3f88f",
      "metadata": {
        "execution": {
          "iopub.execute_input": "2022-12-14T21:29:14.159362Z",
          "iopub.status.busy": "2022-12-14T21:29:14.158715Z",
          "iopub.status.idle": "2022-12-14T21:29:14.445901Z",
          "shell.execute_reply": "2022-12-14T21:29:14.444903Z"
        },
        "id": "88e3f88f",
        "papermill": {
          "duration": 0.30646,
          "end_time": "2022-12-14T21:29:14.448646",
          "exception": false,
          "start_time": "2022-12-14T21:29:14.142186",
          "status": "completed"
        },
        "tags": []
      },
      "outputs": [],
      "source": [
        "X_train = tokenizer(text=train_df[\"sms\"].tolist(),\n",
        "                   max_length=max_len,\n",
        "                   padding=True,\n",
        "                   truncation=True,\n",
        "                   add_special_tokens=True,\n",
        "                   return_tensors=\"tf\",\n",
        "                   return_attention_mask=True,\n",
        "                   return_token_type_ids=False,\n",
        "                   verbose=True)\n",
        "X_test = tokenizer(text=test_df[\"sms\"].tolist(),\n",
        "                  max_length=max_len,\n",
        "                  padding=True,\n",
        "                  truncation=True,\n",
        "                  add_special_tokens=True,\n",
        "                  return_tensors=\"tf\",\n",
        "                  return_attention_mask=True,\n",
        "                  return_token_type_ids=False,\n",
        "                  verbose=True)"
      ]
    },
    {
      "cell_type": "code",
      "execution_count": 150,
      "id": "_658Ciej0tUV",
      "metadata": {
        "colab": {
          "base_uri": "https://localhost:8080/",
          "height": 36
        },
        "id": "_658Ciej0tUV",
        "outputId": "01f411f1-ed11-4fd4-c206-17ee37e6b8f9"
      },
      "outputs": [
        {
          "output_type": "execute_result",
          "data": {
            "text/plain": [
              "'go jurong point crazy available bugis n great world la e buffet cine got amore wat'"
            ],
            "application/vnd.google.colaboratory.intrinsic+json": {
              "type": "string"
            }
          },
          "metadata": {},
          "execution_count": 150
        }
      ],
      "source": [
        "train_df[\"sms\"][0]"
      ]
    },
    {
      "cell_type": "code",
      "execution_count": 151,
      "id": "xfT--ptK0dOc",
      "metadata": {
        "colab": {
          "base_uri": "https://localhost:8080/"
        },
        "id": "xfT--ptK0dOc",
        "outputId": "03b6d7c6-aee8-4a5f-b1e5-3d2d127194d1"
      },
      "outputs": [
        {
          "output_type": "execute_result",
          "data": {
            "text/plain": [
              "<tf.Tensor: shape=(67,), dtype=int32, numpy=\n",
              "array([  101,  6798,  1324,  1821, 19353,  1146,  1380,  2068,  1198,\n",
              "        1400,  2653, 23372,  4164,  5871,  1964, 11891,  1179,  1549,\n",
              "         170,  2653,  3606,  1139,  1250,  1138, 11891,  1179,  1189,\n",
              "        3073, 21050,  2528,  6944, 24682,   178,  1821,  2296, 13465,\n",
              "         181,  1358,  1964,   102,     0,     0,     0,     0,     0,\n",
              "           0,     0,     0,     0,     0,     0,     0,     0,     0,\n",
              "           0,     0,     0,     0,     0,     0,     0,     0,     0,\n",
              "           0,     0,     0,     0], dtype=int32)>"
            ]
          },
          "metadata": {},
          "execution_count": 151
        }
      ],
      "source": [
        "X_train['input_ids'][0]"
      ]
    },
    {
      "cell_type": "code",
      "execution_count": 152,
      "id": "PlU0NjzX0KUG",
      "metadata": {
        "colab": {
          "base_uri": "https://localhost:8080/"
        },
        "id": "PlU0NjzX0KUG",
        "outputId": "e6e77b41-c8dd-43c7-c208-c2c51bc8b268"
      },
      "outputs": [
        {
          "output_type": "execute_result",
          "data": {
            "text/plain": [
              "<tf.Tensor: shape=(67,), dtype=int32, numpy=\n",
              "array([1, 1, 1, 1, 1, 1, 1, 1, 1, 1, 1, 1, 1, 1, 1, 1, 1, 1, 1, 1, 1, 1,\n",
              "       1, 1, 1, 1, 1, 1, 1, 1, 1, 1, 1, 1, 1, 1, 1, 1, 1, 1, 0, 0, 0, 0,\n",
              "       0, 0, 0, 0, 0, 0, 0, 0, 0, 0, 0, 0, 0, 0, 0, 0, 0, 0, 0, 0, 0, 0,\n",
              "       0], dtype=int32)>"
            ]
          },
          "metadata": {},
          "execution_count": 152
        }
      ],
      "source": [
        "X_train['attention_mask'][0]"
      ]
    },
    {
      "cell_type": "markdown",
      "id": "925c2f07",
      "metadata": {
        "id": "925c2f07",
        "papermill": {
          "duration": 0.01535,
          "end_time": "2022-12-14T21:29:14.479482",
          "exception": false,
          "start_time": "2022-12-14T21:29:14.464132",
          "status": "completed"
        },
        "tags": []
      },
      "source": [
        "## Fine-tuning the BERT transformer model architecture"
      ]
    },
    {
      "cell_type": "code",
      "execution_count": 153,
      "id": "63701463",
      "metadata": {
        "execution": {
          "iopub.execute_input": "2022-12-14T21:29:14.510737Z",
          "iopub.status.busy": "2022-12-14T21:29:14.510416Z",
          "iopub.status.idle": "2022-12-14T21:29:14.519110Z",
          "shell.execute_reply": "2022-12-14T21:29:14.518267Z"
        },
        "id": "63701463",
        "papermill": {
          "duration": 0.026656,
          "end_time": "2022-12-14T21:29:14.521086",
          "exception": false,
          "start_time": "2022-12-14T21:29:14.494430",
          "status": "completed"
        },
        "tags": []
      },
      "outputs": [],
      "source": [
        "input_ids = Input(shape=(max_len,),dtype=tf.int32,name='input_ids')\n",
        "attention_mask = Input(shape=(max_len,),dtype=tf.int32,name='attention_mask')"
      ]
    },
    {
      "cell_type": "code",
      "execution_count": 154,
      "id": "ee1feae3",
      "metadata": {
        "execution": {
          "iopub.execute_input": "2022-12-14T21:29:14.552778Z",
          "iopub.status.busy": "2022-12-14T21:29:14.552022Z",
          "iopub.status.idle": "2022-12-14T21:29:23.160803Z",
          "shell.execute_reply": "2022-12-14T21:29:23.159847Z"
        },
        "id": "ee1feae3",
        "papermill": {
          "duration": 8.627103,
          "end_time": "2022-12-14T21:29:23.163228",
          "exception": false,
          "start_time": "2022-12-14T21:29:14.536125",
          "status": "completed"
        },
        "tags": []
      },
      "outputs": [],
      "source": [
        "embeddings = bert(input_ids,attention_mask=attention_mask)[0] # 0 --> final hidden state, 1 --> pooling output\n",
        "output = Flatten()(embeddings)\n",
        "\n",
        "output = Dense(units=1024,activation='relu')(output)\n",
        "output = Dropout(0.3)(output)\n",
        "\n",
        "output = Dense(units=512,activation='relu')(output)\n",
        "output = Dropout(0.2)(output)\n",
        "\n",
        "output = Dense(units=256,activation='relu')(output)\n",
        "output = Dropout(0.1)(output)\n",
        "\n",
        "output = Dense(units=128,activation='relu')(output)\n",
        "output = Dense(units=2,activation='softmax')(output)\n",
        "\n",
        "model = Model(inputs=[input_ids,attention_mask],outputs=output)\n",
        "model.layers[2].trainable = True"
      ]
    },
    {
      "cell_type": "markdown",
      "id": "c047adfa",
      "metadata": {
        "id": "c047adfa",
        "papermill": {
          "duration": 0.014622,
          "end_time": "2022-12-14T21:29:23.193842",
          "exception": false,
          "start_time": "2022-12-14T21:29:23.179220",
          "status": "completed"
        },
        "tags": []
      },
      "source": [
        "## Visualizing the model architecture"
      ]
    },
    {
      "cell_type": "code",
      "execution_count": 155,
      "id": "ea1eae17",
      "metadata": {
        "colab": {
          "base_uri": "https://localhost:8080/",
          "height": 1000
        },
        "execution": {
          "iopub.execute_input": "2022-12-14T21:29:23.274456Z",
          "iopub.status.busy": "2022-12-14T21:29:23.273580Z",
          "iopub.status.idle": "2022-12-14T21:29:25.430740Z",
          "shell.execute_reply": "2022-12-14T21:29:25.429624Z"
        },
        "id": "ea1eae17",
        "outputId": "359a47db-5676-4690-a675-c1a70f733658",
        "papermill": {
          "duration": 2.175727,
          "end_time": "2022-12-14T21:29:25.433810",
          "exception": false,
          "start_time": "2022-12-14T21:29:23.258083",
          "status": "completed"
        },
        "tags": []
      },
      "outputs": [
        {
          "output_type": "execute_result",
          "data": {
            "image/png": "[encoded data removed]",
            "text/plain": [
              "<IPython.core.display.Image object>"
            ]
          },
          "metadata": {},
          "execution_count": 155
        }
      ],
      "source": [
        "plot_model(model,dpi=100,show_shapes=True)"
      ]
    },
    {
      "cell_type": "markdown",
      "id": "21a1de44",
      "metadata": {
        "id": "21a1de44",
        "papermill": {
          "duration": 0.016008,
          "end_time": "2022-12-14T21:29:25.466697",
          "exception": false,
          "start_time": "2022-12-14T21:29:25.450689",
          "status": "completed"
        },
        "tags": []
      },
      "source": [
        "## Compiling the model"
      ]
    },
    {
      "cell_type": "code",
      "execution_count": 156,
      "id": "9c498168",
      "metadata": {
        "execution": {
          "iopub.execute_input": "2022-12-14T21:29:25.501274Z",
          "iopub.status.busy": "2022-12-14T21:29:25.500437Z",
          "iopub.status.idle": "2022-12-14T21:29:25.524899Z",
          "shell.execute_reply": "2022-12-14T21:29:25.524020Z"
        },
        "id": "9c498168",
        "papermill": {
          "duration": 0.043933,
          "end_time": "2022-12-14T21:29:25.526963",
          "exception": false,
          "start_time": "2022-12-14T21:29:25.483030",
          "status": "completed"
        },
        "tags": []
      },
      "outputs": [],
      "source": [
        "optimizer = Adam(learning_rate=5e-5,epsilon=2e-8,clipnorm=1.0)\n",
        "loss = CategoricalCrossentropy(from_logits=True)\n",
        "model.compile(loss=loss,optimizer=optimizer,metrics=['accuracy'])"
      ]
    },
    {
      "cell_type": "markdown",
      "id": "d0e9cd00",
      "metadata": {
        "id": "d0e9cd00",
        "papermill": {
          "duration": 0.016245,
          "end_time": "2022-12-14T21:29:25.559502",
          "exception": false,
          "start_time": "2022-12-14T21:29:25.543257",
          "status": "completed"
        },
        "tags": []
      },
      "source": [
        "## Training the fine-tuned BERT transformer model"
      ]
    },
    {
      "cell_type": "code",
      "execution_count": 157,
      "id": "1V8j-ije3OYM",
      "metadata": {
        "id": "1V8j-ije3OYM"
      },
      "outputs": [],
      "source": [
        "es = EarlyStopping(monitor='val_accuracy',\n",
        "                   patience=3,\n",
        "                   verbose=1,\n",
        "                   mode='max')\n",
        "filepath=\"weights-{epoch:02d}-{val_accuracy:.2f}.hdf5\"\n",
        "mc = ModelCheckpoint(filepath=filepath,\n",
        "                     monitor='val_accuracy',\n",
        "                     mode='max',\n",
        "                     save_best_only=True,\n",
        "                     verbose=1)\n",
        "reduce_lr = ReduceLROnPlateau(monitor='val_loss', \n",
        "                              factor=0.2,\n",
        "                              patience=2)"
      ]
    },
    {
      "cell_type": "code",
      "execution_count": 158,
      "id": "fffe7e62",
      "metadata": {
        "colab": {
          "base_uri": "https://localhost:8080/"
        },
        "execution": {
          "iopub.execute_input": "2022-12-14T21:29:25.594480Z",
          "iopub.status.busy": "2022-12-14T21:29:25.593553Z",
          "iopub.status.idle": "2022-12-14T22:34:07.413101Z",
          "shell.execute_reply": "2022-12-14T22:34:07.405712Z"
        },
        "id": "fffe7e62",
        "outputId": "94193a1b-f6bf-4573-fe8b-0dbc261a7733",
        "papermill": {
          "duration": 3881.84005,
          "end_time": "2022-12-14T22:34:07.415897",
          "exception": false,
          "start_time": "2022-12-14T21:29:25.575847",
          "status": "completed"
        },
        "tags": []
      },
      "outputs": [
        {
          "output_type": "stream",
          "name": "stdout",
          "text": [
            "Epoch 1/10\n",
            "130/130 [==============================] - ETA: 0s - loss: 0.2164 - accuracy: 0.9175\n",
            "Epoch 1: val_accuracy improved from -inf to 0.97099, saving model to weights-01-0.97.hdf5\n",
            "130/130 [==============================] - 76s 212ms/step - loss: 0.2164 - accuracy: 0.9175 - val_loss: 0.0748 - val_accuracy: 0.9710 - lr: 5.0000e-05\n",
            "Epoch 2/10\n",
            "130/130 [==============================] - ETA: 0s - loss: 0.0746 - accuracy: 0.9816\n",
            "Epoch 2: val_accuracy improved from 0.97099 to 0.98453, saving model to weights-02-0.98.hdf5\n",
            "130/130 [==============================] - 18s 141ms/step - loss: 0.0746 - accuracy: 0.9816 - val_loss: 0.0623 - val_accuracy: 0.9845 - lr: 5.0000e-05\n",
            "Epoch 3/10\n",
            "130/130 [==============================] - ETA: 0s - loss: 0.0322 - accuracy: 0.9923\n",
            "Epoch 3: val_accuracy did not improve from 0.98453\n",
            "130/130 [==============================] - 14s 109ms/step - loss: 0.0322 - accuracy: 0.9923 - val_loss: 0.1327 - val_accuracy: 0.9739 - lr: 5.0000e-05\n",
            "Epoch 4/10\n",
            "130/130 [==============================] - ETA: 0s - loss: 0.0285 - accuracy: 0.9925\n",
            "Epoch 4: val_accuracy did not improve from 0.98453\n",
            "130/130 [==============================] - 13s 102ms/step - loss: 0.0285 - accuracy: 0.9925 - val_loss: 0.0744 - val_accuracy: 0.9797 - lr: 5.0000e-05\n",
            "Epoch 5/10\n",
            "130/130 [==============================] - ETA: 0s - loss: 0.0064 - accuracy: 0.9983\n",
            "Epoch 5: val_accuracy did not improve from 0.98453\n",
            "130/130 [==============================] - 12s 95ms/step - loss: 0.0064 - accuracy: 0.9983 - val_loss: 0.0807 - val_accuracy: 0.9836 - lr: 1.0000e-05\n",
            "Epoch 5: early stopping\n"
          ]
        }
      ],
      "source": [
        "r = model.fit(x={'input_ids': X_train['input_ids'], \n",
        "                 'attention_mask': X_train['attention_mask']},\n",
        "              y=to_categorical(y_train),\n",
        "              epochs=10,\n",
        "              batch_size=32,\n",
        "              callbacks=[es,mc,reduce_lr],\n",
        "              validation_data=({'input_ids': X_test['input_ids'], \n",
        "                                'attention_mask': X_test['attention_mask']},\n",
        "                               to_categorical(y_test))\n",
        "             )"
      ]
    },
    {
      "cell_type": "markdown",
      "id": "b6543ada",
      "metadata": {
        "id": "b6543ada",
        "papermill": {
          "duration": 0.368986,
          "end_time": "2022-12-14T22:34:08.097059",
          "exception": false,
          "start_time": "2022-12-14T22:34:07.728073",
          "status": "completed"
        },
        "tags": []
      },
      "source": [
        "## Analyzing the overall performance of the fine-tuned ROBERTA transformer model"
      ]
    },
    {
      "cell_type": "code",
      "execution_count": 159,
      "id": "860b9e44",
      "metadata": {
        "colab": {
          "base_uri": "https://localhost:8080/",
          "height": 513
        },
        "execution": {
          "iopub.execute_input": "2022-12-14T22:34:08.742272Z",
          "iopub.status.busy": "2022-12-14T22:34:08.739991Z",
          "iopub.status.idle": "2022-12-14T22:34:09.102598Z",
          "shell.execute_reply": "2022-12-14T22:34:09.101527Z"
        },
        "id": "860b9e44",
        "outputId": "bd2a0155-4810-4857-8fa8-f25f2131d664",
        "papermill": {
          "duration": 0.689469,
          "end_time": "2022-12-14T22:34:09.106437",
          "exception": false,
          "start_time": "2022-12-14T22:34:08.416968",
          "status": "completed"
        },
        "tags": []
      },
      "outputs": [
        {
          "output_type": "display_data",
          "data": {
            "text/plain": [
              "<Figure size 864x576 with 1 Axes>"
            ],
            "image/png": "[encoded data removed]"
          },
          "metadata": {
            "needs_background": "light"
          }
        }
      ],
      "source": [
        "plt.plot(r.history['loss'],label='train loss')\n",
        "plt.plot(r.history['val_loss'],label='test loss')\n",
        "plt.xlabel('No. of Epochs')\n",
        "plt.ylabel('Loss')\n",
        "plt.title('Loss Graph')\n",
        "plt.legend();"
      ]
    },
    {
      "cell_type": "code",
      "execution_count": 160,
      "id": "707914a5",
      "metadata": {
        "colab": {
          "base_uri": "https://localhost:8080/",
          "height": 513
        },
        "execution": {
          "iopub.execute_input": "2022-12-14T22:34:09.896694Z",
          "iopub.status.busy": "2022-12-14T22:34:09.896322Z",
          "iopub.status.idle": "2022-12-14T22:34:10.165854Z",
          "shell.execute_reply": "2022-12-14T22:34:10.164789Z"
        },
        "id": "707914a5",
        "outputId": "eb60ce68-69f4-4ed1-8871-76d3348640c8",
        "papermill": {
          "duration": 0.591488,
          "end_time": "2022-12-14T22:34:10.168064",
          "exception": false,
          "start_time": "2022-12-14T22:34:09.576576",
          "status": "completed"
        },
        "tags": []
      },
      "outputs": [
        {
          "output_type": "display_data",
          "data": {
            "text/plain": [
              "<Figure size 864x576 with 1 Axes>"
            ],
            "image/png": "[encoded data removed]"
          },
          "metadata": {
            "needs_background": "light"
          }
        }
      ],
      "source": [
        "plt.plot(r.history['accuracy'],label='train accuracy')\n",
        "plt.plot(r.history['val_accuracy'],label='test accuracy')\n",
        "plt.xlabel('No. of Epochs')\n",
        "plt.ylabel('Accuracy')\n",
        "plt.title('Accuracy Graph')\n",
        "plt.legend();"
      ]
    },
    {
      "cell_type": "markdown",
      "id": "98e8ba7e",
      "metadata": {
        "id": "98e8ba7e",
        "papermill": {
          "duration": 0.357182,
          "end_time": "2022-12-14T22:34:10.841381",
          "exception": false,
          "start_time": "2022-12-14T22:34:10.484199",
          "status": "completed"
        },
        "tags": []
      },
      "source": [
        "## Saving the model"
      ]
    },
    {
      "cell_type": "code",
      "execution_count": 161,
      "id": "edfc958c",
      "metadata": {
        "execution": {
          "iopub.execute_input": "2022-12-14T22:34:11.457048Z",
          "iopub.status.busy": "2022-12-14T22:34:11.456646Z",
          "iopub.status.idle": "2022-12-14T22:34:15.061660Z",
          "shell.execute_reply": "2022-12-14T22:34:15.060618Z"
        },
        "id": "edfc958c",
        "papermill": {
          "duration": 3.918572,
          "end_time": "2022-12-14T22:34:15.064392",
          "exception": false,
          "start_time": "2022-12-14T22:34:11.145820",
          "status": "completed"
        },
        "tags": []
      },
      "outputs": [],
      "source": [
        "model.save(path+'sms_spam_detector.h5')"
      ]
    },
    {
      "cell_type": "markdown",
      "id": "c8961718",
      "metadata": {
        "id": "c8961718",
        "papermill": {
          "duration": 0.38151,
          "end_time": "2022-12-14T22:34:15.780442",
          "exception": false,
          "start_time": "2022-12-14T22:34:15.398932",
          "status": "completed"
        },
        "tags": []
      },
      "source": [
        "## Model Evaluation"
      ]
    },
    {
      "cell_type": "code",
      "execution_count": 162,
      "id": "a5f5faee",
      "metadata": {
        "colab": {
          "base_uri": "https://localhost:8080/"
        },
        "execution": {
          "iopub.execute_input": "2022-12-14T22:34:16.474815Z",
          "iopub.status.busy": "2022-12-14T22:34:16.474458Z",
          "iopub.status.idle": "2022-12-14T22:34:26.759015Z",
          "shell.execute_reply": "2022-12-14T22:34:26.757640Z"
        },
        "id": "a5f5faee",
        "outputId": "7e925767-c4de-452f-f71b-056adf154977",
        "papermill": {
          "duration": 10.621371,
          "end_time": "2022-12-14T22:34:26.761113",
          "exception": false,
          "start_time": "2022-12-14T22:34:16.139742",
          "status": "completed"
        },
        "tags": []
      },
      "outputs": [
        {
          "output_type": "stream",
          "name": "stdout",
          "text": [
            "33/33 [==============================] - 1s 31ms/step - loss: 0.0807 - accuracy: 0.9836\n",
            "Test Categorical Crossentropy Loss: 0.08069944381713867\n",
            "Test Categorical Accuracy: 0.9835590124130249\n"
          ]
        }
      ],
      "source": [
        "loss, acc = model.evaluate({'input_ids': X_test['input_ids'], 'attention_mask': X_test['attention_mask']},to_categorical(y_test))\n",
        "print(\"Test Categorical Crossentropy Loss:\", loss)\n",
        "print(\"Test Categorical Accuracy:\", acc)"
      ]
    },
    {
      "cell_type": "code",
      "execution_count": 163,
      "id": "8df94f35",
      "metadata": {
        "colab": {
          "base_uri": "https://localhost:8080/"
        },
        "execution": {
          "iopub.execute_input": "2022-12-14T22:34:27.389789Z",
          "iopub.status.busy": "2022-12-14T22:34:27.389411Z",
          "iopub.status.idle": "2022-12-14T22:34:38.291846Z",
          "shell.execute_reply": "2022-12-14T22:34:38.290773Z"
        },
        "id": "8df94f35",
        "outputId": "525333f3-4523-49c0-ab90-7781c3bbaaab",
        "papermill": {
          "duration": 11.221167,
          "end_time": "2022-12-14T22:34:38.294203",
          "exception": false,
          "start_time": "2022-12-14T22:34:27.073036",
          "status": "completed"
        },
        "tags": []
      },
      "outputs": [
        {
          "output_type": "stream",
          "name": "stdout",
          "text": [
            "33/33 [==============================] - 5s 31ms/step\n",
            "Confusion Matrix:\n",
            "[[898   5]\n",
            " [ 12 119]]\n",
            "Classification Report:\n",
            "              precision    recall  f1-score   support\n",
            "\n",
            "           0       0.99      0.99      0.99       903\n",
            "           1       0.96      0.91      0.93       131\n",
            "\n",
            "    accuracy                           0.98      1034\n",
            "   macro avg       0.97      0.95      0.96      1034\n",
            "weighted avg       0.98      0.98      0.98      1034\n",
            "\n"
          ]
        }
      ],
      "source": [
        "test_predictions = model.predict({'input_ids': X_test['input_ids'], 'attention_mask': X_test['attention_mask']})\n",
        "test_predictions = np.argmax(test_predictions,axis=1)\n",
        "print(\"Confusion Matrix:\")\n",
        "print(confusion_matrix(y_test,test_predictions))\n",
        "print(\"Classification Report:\")\n",
        "print(classification_report(y_test,test_predictions))"
      ]
    },
    {
      "cell_type": "code",
      "execution_count": null,
      "id": "3Xd-CktIk0qv",
      "metadata": {
        "id": "3Xd-CktIk0qv"
      },
      "outputs": [],
      "source": []
    }
  ],
  "metadata": {
    "accelerator": "GPU",
    "colab": {
      "provenance": []
    },
    "gpuClass": "premium",
    "kernelspec": {
      "display_name": "aiml",
      "language": "python",
      "name": "python3"
    },
    "language_info": {
      "codemirror_mode": {
        "name": "ipython",
        "version": 3
      },
      "file_extension": ".py",
      "mimetype": "text/x-python",
      "name": "python",
      "nbconvert_exporter": "python",
      "pygments_lexer": "ipython3",
      "version": "3.10.9"
    },
    "papermill": {
      "default_parameters": {},
      "duration": 4011.35127,
      "end_time": "2022-12-14T22:34:43.300827",
      "environment_variables": {},
      "exception": null,
      "input_path": "__notebook__.ipynb",
      "output_path": "__notebook__.ipynb",
      "parameters": {},
      "start_time": "2022-12-14T21:27:51.949557",
      "version": "2.3.4"
    },
    "vscode": {
      "interpreter": {
        "hash": "5b9ec4183a30cf8b2f983fd208cc1b24879bc33f4463829c436cb9b013f69fe8"
      }
    }
  },
  "nbformat": 4,
  "nbformat_minor": 5
}